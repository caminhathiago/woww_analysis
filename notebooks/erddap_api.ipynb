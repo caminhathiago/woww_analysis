{
 "cells": [
  {
   "cell_type": "markdown",
   "metadata": {},
   "source": [
    "# ERDDAP API\n",
    "\n",
    "[Tutorial](https://github.com/ioos/erddapy/blob/main/notebooks/01a-griddap.ipynb)"
   ]
  },
  {
   "cell_type": "code",
   "execution_count": 1,
   "metadata": {},
   "outputs": [
    {
     "name": "stderr",
     "output_type": "stream",
     "text": [
      "/home/thiagocaminha/.pyenv/versions/3.8.12/envs/remobs_global/lib/python3.8/site-packages/pandas/compat/__init__.py:124: UserWarning: Could not import the lzma module. Your installed Python is incomplete. Attempting to use lzma compression will result in a RuntimeError.\n",
      "  warnings.warn(msg)\n"
     ]
    }
   ],
   "source": [
    "\n",
    "\n",
    "import os\n",
    "os.chdir('/home/thiagocaminha/projects/woww_analysis/')\n",
    "\n",
    "from erddapy import ERDDAP\n",
    "import json\n",
    "import xarray as xr\n",
    "import pandas as pd\n",
    "import numpy as np\n",
    "import math\n",
    "from typing import Union\n",
    "from scripts.erddap import WOWWErdappData\n",
    "\n",
    "from datetime import datetime, timedelta\n",
    "\n",
    "%load_ext autoreload\n",
    "%autoreload 2"
   ]
  },
  {
   "cell_type": "markdown",
   "metadata": {},
   "source": []
  },
  {
   "cell_type": "markdown",
   "metadata": {},
   "source": [
    "## Basic Utilization"
   ]
  },
  {
   "cell_type": "code",
   "execution_count": 82,
   "metadata": {},
   "outputs": [],
   "source": [
    "server=\"https://pae-paha.pacioos.hawaii.edu/erddap/\"\n",
    "protocol=\"griddap\"\n",
    "dataset_id=\"ww3_global\"\n",
    "\n",
    "e = ERDDAP(server=server, protocol=protocol)\n",
    "e.dataset_id = dataset_id"
   ]
  },
  {
   "cell_type": "code",
   "execution_count": 83,
   "metadata": {},
   "outputs": [],
   "source": [
    "e.griddap_initialize()"
   ]
  },
  {
   "cell_type": "code",
   "execution_count": 117,
   "metadata": {},
   "outputs": [
    {
     "data": {
      "text/plain": [
       "<erddapy.erddapy.ERDDAP at 0x7f0d76e91070>"
      ]
     },
     "execution_count": 117,
     "metadata": {},
     "output_type": "execute_result"
    }
   ],
   "source": [
    "e"
   ]
  },
  {
   "cell_type": "code",
   "execution_count": 118,
   "metadata": {},
   "outputs": [
    {
     "name": "stdout",
     "output_type": "stream",
     "text": [
      "variables in this dataset:\n",
      "\n",
      "['Tdir', 'Tper', 'Thgt', 'sdir', 'sper', 'shgt', 'wdir', 'wper', 'whgt']\n",
      "\n",
      "constraints of this dataset:\n",
      "\n",
      "{\n",
      " \"time>=\": \"2023-02-04T18:00:00Z\",\n",
      " \"time<=\": \"2023-02-04T18:00:00Z\",\n",
      " \"time_step\": 1,\n",
      " \"depth>=\": 0.0,\n",
      " \"depth<=\": 0.0,\n",
      " \"depth_step\": 1,\n",
      " \"latitude>=\": -77.5,\n",
      " \"latitude<=\": 77.5,\n",
      " \"latitude_step\": 1,\n",
      " \"longitude>=\": 0.0,\n",
      " \"longitude<=\": 359.5,\n",
      " \"longitude_step\": 1\n",
      "}\n"
     ]
    }
   ],
   "source": [
    "print(f\"variables in this dataset:\\n\\n{e.variables}\")\n",
    "print(\n",
    "    f\"\\nconstraints of this dataset:\\n\\n{json.dumps(e.constraints, indent=1)}\"\n",
    ")"
   ]
  },
  {
   "cell_type": "code",
   "execution_count": 120,
   "metadata": {},
   "outputs": [],
   "source": [
    "e.longitude = 330\n",
    "e.latitude = -2\n",
    "e.time = '2023-01-29T00:00:00Z'"
   ]
  },
  {
   "cell_type": "markdown",
   "metadata": {},
   "source": [
    "## ETL development\n",
    "\n",
    "- Design get_bash_data to grab forecast data as default\n",
    "  - Consider lowest maximum datetime available either from ww3 (waves), ncep (winds) and ?? (currents)"
   ]
  },
  {
   "cell_type": "markdown",
   "metadata": {},
   "source": [
    "## WW3"
   ]
  },
  {
   "cell_type": "markdown",
   "metadata": {},
   "source": [
    "### RAW "
   ]
  },
  {
   "cell_type": "code",
   "execution_count": 2,
   "metadata": {},
   "outputs": [],
   "source": [
    "# EXTRACT\n",
    "wd = WOWWErdappData(server=\"https://pae-paha.pacioos.hawaii.edu/erddap/\",\n",
    "                    protocol=\"griddap\",\n",
    "                    dataset_id=\"ww3_global\",\n",
    "                    initialize=True)\n",
    "# 3m27s longitude=(305,333),latitude=(-35,4)\n",
    "\n",
    "wd.set_vars_constraints(variables=['Tdir', 'Tper', 'Thgt',\n",
    "                                    'sdir','sper','shgt',\n",
    "                                    'wdir','wper','whgt'],\n",
    "                        longitude=305,#(305,333),\n",
    "                        latitude=-35,#(-35,4),\n",
    "                        start_date=(datetime.utcnow()-timedelta(days=1)).strftime(\"%Y-%m-%dT%H:%M:%SZ\"),\n",
    "                        correct_pos=False)\n",
    "\n",
    "ww3 = wd.grab_batch_data(response_type=\"pandas\")\n"
   ]
  },
  {
   "cell_type": "code",
   "execution_count": 3,
   "metadata": {},
   "outputs": [],
   "source": [
    "\n",
    "#TRANSFORM\n",
    "ww3.columns = wd.process_var_labels(ww3)\n",
    "ww3 = wd.rename_var_labels(ww3)\n"
   ]
  },
  {
   "cell_type": "code",
   "execution_count": 6,
   "metadata": {},
   "outputs": [],
   "source": [
    "# ww3 = wd.select_vars(ww3)\n",
    "ww3['tdir_windrose'] = wd.get_direc_quadrant(data=ww3,direc_var='tdir')\n",
    "ww3['sdir_windrose'] = wd.get_direc_quadrant(data=ww3,direc_var='sdir')\n",
    "ww3['wdir_windrose'] = wd.get_direc_quadrant(data=ww3,direc_var='wdir')\n",
    "\n",
    "# LOAD\n"
   ]
  },
  {
   "cell_type": "code",
   "execution_count": 7,
   "metadata": {},
   "outputs": [
    {
     "data": {
      "text/html": [
       "<div>\n",
       "<style scoped>\n",
       "    .dataframe tbody tr th:only-of-type {\n",
       "        vertical-align: middle;\n",
       "    }\n",
       "\n",
       "    .dataframe tbody tr th {\n",
       "        vertical-align: top;\n",
       "    }\n",
       "\n",
       "    .dataframe thead th {\n",
       "        text-align: right;\n",
       "    }\n",
       "</style>\n",
       "<table border=\"1\" class=\"dataframe\">\n",
       "  <thead>\n",
       "    <tr style=\"text-align: right;\">\n",
       "      <th></th>\n",
       "      <th>date_time</th>\n",
       "      <th>depth</th>\n",
       "      <th>latitude</th>\n",
       "      <th>longitude</th>\n",
       "      <th>tdir</th>\n",
       "      <th>tper</th>\n",
       "      <th>thgt</th>\n",
       "      <th>sdir</th>\n",
       "      <th>sper</th>\n",
       "      <th>shgt</th>\n",
       "      <th>wdir</th>\n",
       "      <th>wper</th>\n",
       "      <th>whgt</th>\n",
       "      <th>tdir_windrose</th>\n",
       "      <th>sdir_windrose</th>\n",
       "      <th>wdir_windrose</th>\n",
       "    </tr>\n",
       "  </thead>\n",
       "  <tbody>\n",
       "    <tr>\n",
       "      <th>0</th>\n",
       "      <td>2023-09-02T02:00:00Z</td>\n",
       "      <td>0.0</td>\n",
       "      <td>-35.0</td>\n",
       "      <td>305.0</td>\n",
       "      <td>71.0</td>\n",
       "      <td>5.319148</td>\n",
       "      <td>1.11</td>\n",
       "      <td>93.0</td>\n",
       "      <td>9.770000</td>\n",
       "      <td>0.31</td>\n",
       "      <td>65.0</td>\n",
       "      <td>5.30</td>\n",
       "      <td>1.05</td>\n",
       "      <td>ENE</td>\n",
       "      <td>E</td>\n",
       "      <td>ENE</td>\n",
       "    </tr>\n",
       "    <tr>\n",
       "      <th>1</th>\n",
       "      <td>2023-09-02T03:00:00Z</td>\n",
       "      <td>0.0</td>\n",
       "      <td>-35.0</td>\n",
       "      <td>305.0</td>\n",
       "      <td>72.0</td>\n",
       "      <td>5.376344</td>\n",
       "      <td>1.03</td>\n",
       "      <td>94.0</td>\n",
       "      <td>9.790000</td>\n",
       "      <td>0.30</td>\n",
       "      <td>67.0</td>\n",
       "      <td>5.37</td>\n",
       "      <td>0.98</td>\n",
       "      <td>ENE</td>\n",
       "      <td>E</td>\n",
       "      <td>ENE</td>\n",
       "    </tr>\n",
       "    <tr>\n",
       "      <th>2</th>\n",
       "      <td>2023-09-02T04:00:00Z</td>\n",
       "      <td>0.0</td>\n",
       "      <td>-35.0</td>\n",
       "      <td>305.0</td>\n",
       "      <td>80.0</td>\n",
       "      <td>5.464480</td>\n",
       "      <td>0.96</td>\n",
       "      <td>93.0</td>\n",
       "      <td>9.830000</td>\n",
       "      <td>0.30</td>\n",
       "      <td>69.0</td>\n",
       "      <td>5.47</td>\n",
       "      <td>0.90</td>\n",
       "      <td>E</td>\n",
       "      <td>E</td>\n",
       "      <td>ENE</td>\n",
       "    </tr>\n",
       "    <tr>\n",
       "      <th>3</th>\n",
       "      <td>2023-09-02T05:00:00Z</td>\n",
       "      <td>0.0</td>\n",
       "      <td>-35.0</td>\n",
       "      <td>305.0</td>\n",
       "      <td>81.0</td>\n",
       "      <td>5.586592</td>\n",
       "      <td>0.90</td>\n",
       "      <td>72.0</td>\n",
       "      <td>5.570000</td>\n",
       "      <td>0.83</td>\n",
       "      <td>NaN</td>\n",
       "      <td>NaN</td>\n",
       "      <td>NaN</td>\n",
       "      <td>E</td>\n",
       "      <td>ENE</td>\n",
       "      <td>NaN</td>\n",
       "    </tr>\n",
       "    <tr>\n",
       "      <th>4</th>\n",
       "      <td>2023-09-02T06:00:00Z</td>\n",
       "      <td>0.0</td>\n",
       "      <td>-35.0</td>\n",
       "      <td>305.0</td>\n",
       "      <td>82.0</td>\n",
       "      <td>5.681818</td>\n",
       "      <td>0.86</td>\n",
       "      <td>74.0</td>\n",
       "      <td>5.680000</td>\n",
       "      <td>0.78</td>\n",
       "      <td>NaN</td>\n",
       "      <td>NaN</td>\n",
       "      <td>NaN</td>\n",
       "      <td>E</td>\n",
       "      <td>ENE</td>\n",
       "      <td>NaN</td>\n",
       "    </tr>\n",
       "    <tr>\n",
       "      <th>...</th>\n",
       "      <td>...</td>\n",
       "      <td>...</td>\n",
       "      <td>...</td>\n",
       "      <td>...</td>\n",
       "      <td>...</td>\n",
       "      <td>...</td>\n",
       "      <td>...</td>\n",
       "      <td>...</td>\n",
       "      <td>...</td>\n",
       "      <td>...</td>\n",
       "      <td>...</td>\n",
       "      <td>...</td>\n",
       "      <td>...</td>\n",
       "      <td>...</td>\n",
       "      <td>...</td>\n",
       "      <td>...</td>\n",
       "    </tr>\n",
       "    <tr>\n",
       "      <th>156</th>\n",
       "      <td>2023-09-08T14:00:00Z</td>\n",
       "      <td>0.0</td>\n",
       "      <td>-35.0</td>\n",
       "      <td>305.0</td>\n",
       "      <td>108.0</td>\n",
       "      <td>10.309278</td>\n",
       "      <td>1.22</td>\n",
       "      <td>119.0</td>\n",
       "      <td>10.250000</td>\n",
       "      <td>1.19</td>\n",
       "      <td>NaN</td>\n",
       "      <td>NaN</td>\n",
       "      <td>NaN</td>\n",
       "      <td>ESE</td>\n",
       "      <td>ESE</td>\n",
       "      <td>NaN</td>\n",
       "    </tr>\n",
       "    <tr>\n",
       "      <th>157</th>\n",
       "      <td>2023-09-08T15:00:00Z</td>\n",
       "      <td>0.0</td>\n",
       "      <td>-35.0</td>\n",
       "      <td>305.0</td>\n",
       "      <td>108.0</td>\n",
       "      <td>10.309278</td>\n",
       "      <td>1.24</td>\n",
       "      <td>122.0</td>\n",
       "      <td>10.290000</td>\n",
       "      <td>1.22</td>\n",
       "      <td>NaN</td>\n",
       "      <td>NaN</td>\n",
       "      <td>NaN</td>\n",
       "      <td>ESE</td>\n",
       "      <td>ESE</td>\n",
       "      <td>NaN</td>\n",
       "    </tr>\n",
       "    <tr>\n",
       "      <th>158</th>\n",
       "      <td>2023-09-08T16:00:00Z</td>\n",
       "      <td>0.0</td>\n",
       "      <td>-35.0</td>\n",
       "      <td>305.0</td>\n",
       "      <td>109.0</td>\n",
       "      <td>10.416667</td>\n",
       "      <td>1.25</td>\n",
       "      <td>123.0</td>\n",
       "      <td>10.349999</td>\n",
       "      <td>1.23</td>\n",
       "      <td>NaN</td>\n",
       "      <td>NaN</td>\n",
       "      <td>NaN</td>\n",
       "      <td>ESE</td>\n",
       "      <td>ESE</td>\n",
       "      <td>NaN</td>\n",
       "    </tr>\n",
       "    <tr>\n",
       "      <th>159</th>\n",
       "      <td>2023-09-08T17:00:00Z</td>\n",
       "      <td>0.0</td>\n",
       "      <td>-35.0</td>\n",
       "      <td>305.0</td>\n",
       "      <td>109.0</td>\n",
       "      <td>10.416667</td>\n",
       "      <td>1.26</td>\n",
       "      <td>124.0</td>\n",
       "      <td>10.420000</td>\n",
       "      <td>1.24</td>\n",
       "      <td>NaN</td>\n",
       "      <td>NaN</td>\n",
       "      <td>NaN</td>\n",
       "      <td>ESE</td>\n",
       "      <td>SE</td>\n",
       "      <td>NaN</td>\n",
       "    </tr>\n",
       "    <tr>\n",
       "      <th>160</th>\n",
       "      <td>2023-09-08T18:00:00Z</td>\n",
       "      <td>0.0</td>\n",
       "      <td>-35.0</td>\n",
       "      <td>305.0</td>\n",
       "      <td>110.0</td>\n",
       "      <td>10.526315</td>\n",
       "      <td>1.27</td>\n",
       "      <td>125.0</td>\n",
       "      <td>10.520000</td>\n",
       "      <td>1.24</td>\n",
       "      <td>NaN</td>\n",
       "      <td>NaN</td>\n",
       "      <td>NaN</td>\n",
       "      <td>ESE</td>\n",
       "      <td>SE</td>\n",
       "      <td>NaN</td>\n",
       "    </tr>\n",
       "  </tbody>\n",
       "</table>\n",
       "<p>161 rows × 16 columns</p>\n",
       "</div>"
      ],
      "text/plain": [
       "                date_time  depth  latitude  longitude   tdir       tper  thgt  \\\n",
       "0    2023-09-02T02:00:00Z    0.0     -35.0      305.0   71.0   5.319148  1.11   \n",
       "1    2023-09-02T03:00:00Z    0.0     -35.0      305.0   72.0   5.376344  1.03   \n",
       "2    2023-09-02T04:00:00Z    0.0     -35.0      305.0   80.0   5.464480  0.96   \n",
       "3    2023-09-02T05:00:00Z    0.0     -35.0      305.0   81.0   5.586592  0.90   \n",
       "4    2023-09-02T06:00:00Z    0.0     -35.0      305.0   82.0   5.681818  0.86   \n",
       "..                    ...    ...       ...        ...    ...        ...   ...   \n",
       "156  2023-09-08T14:00:00Z    0.0     -35.0      305.0  108.0  10.309278  1.22   \n",
       "157  2023-09-08T15:00:00Z    0.0     -35.0      305.0  108.0  10.309278  1.24   \n",
       "158  2023-09-08T16:00:00Z    0.0     -35.0      305.0  109.0  10.416667  1.25   \n",
       "159  2023-09-08T17:00:00Z    0.0     -35.0      305.0  109.0  10.416667  1.26   \n",
       "160  2023-09-08T18:00:00Z    0.0     -35.0      305.0  110.0  10.526315  1.27   \n",
       "\n",
       "      sdir       sper  shgt  wdir  wper  whgt tdir_windrose sdir_windrose  \\\n",
       "0     93.0   9.770000  0.31  65.0  5.30  1.05           ENE             E   \n",
       "1     94.0   9.790000  0.30  67.0  5.37  0.98           ENE             E   \n",
       "2     93.0   9.830000  0.30  69.0  5.47  0.90             E             E   \n",
       "3     72.0   5.570000  0.83   NaN   NaN   NaN             E           ENE   \n",
       "4     74.0   5.680000  0.78   NaN   NaN   NaN             E           ENE   \n",
       "..     ...        ...   ...   ...   ...   ...           ...           ...   \n",
       "156  119.0  10.250000  1.19   NaN   NaN   NaN           ESE           ESE   \n",
       "157  122.0  10.290000  1.22   NaN   NaN   NaN           ESE           ESE   \n",
       "158  123.0  10.349999  1.23   NaN   NaN   NaN           ESE           ESE   \n",
       "159  124.0  10.420000  1.24   NaN   NaN   NaN           ESE            SE   \n",
       "160  125.0  10.520000  1.24   NaN   NaN   NaN           ESE            SE   \n",
       "\n",
       "    wdir_windrose  \n",
       "0             ENE  \n",
       "1             ENE  \n",
       "2             ENE  \n",
       "3             NaN  \n",
       "4             NaN  \n",
       "..            ...  \n",
       "156           NaN  \n",
       "157           NaN  \n",
       "158           NaN  \n",
       "159           NaN  \n",
       "160           NaN  \n",
       "\n",
       "[161 rows x 16 columns]"
      ]
     },
     "execution_count": 7,
     "metadata": {},
     "output_type": "execute_result"
    }
   ],
   "source": [
    "ww3"
   ]
  },
  {
   "cell_type": "code",
   "execution_count": 9,
   "metadata": {},
   "outputs": [
    {
     "data": {
      "text/plain": [
       "<AxesSubplot:xlabel='date_time'>"
      ]
     },
     "execution_count": 9,
     "metadata": {},
     "output_type": "execute_result"
    },
    {
     "data": {
      "image/png": "[encoded data removed]",
      "text/plain": [
       "<Figure size 432x288 with 1 Axes>"
      ]
     },
     "metadata": {
      "needs_background": "light"
     },
     "output_type": "display_data"
    }
   ],
   "source": [
    "ww3.set_index('date_time').loc['2023-09-04':,'thgt'].plot()"
   ]
  },
  {
   "cell_type": "code",
   "execution_count": null,
   "metadata": {},
   "outputs": [],
   "source": []
  },
  {
   "cell_type": "code",
   "execution_count": null,
   "metadata": {},
   "outputs": [],
   "source": []
  },
  {
   "cell_type": "code",
   "execution_count": 3,
   "metadata": {},
   "outputs": [],
   "source": [
    "wd = WOWWErdappData(server=\"https://pae-paha.pacioos.hawaii.edu/erddap/\",\n",
    "            protocol=\"griddap\",\n",
    "            dataset_id=\"ncep_global\")"
   ]
  },
  {
   "cell_type": "code",
   "execution_count": 4,
   "metadata": {},
   "outputs": [],
   "source": [
    "wd.set_vars_constraints(variables=['ugrd10m', 'vgrd10m'],\n",
    "                        longitude=(305,333),\n",
    "                        latitude=(-35,4),\n",
    "                start_date=(datetime.utcnow()-timedelta(days=1)).strftime(\"%Y-%m-%dT%H:%M:%SZ\"),\n",
    "                correct_pos=False)\n",
    "\n",
    "gfs = wd.grab_batch_data(response_type=\"pandas\")\n",
    "\n",
    "gfs.columns = wd.process_var_labels(gfs)\n",
    "gfs = wd.rename_var_labels(gfs)\n",
    "gfs = wd.select_vars(gfs)\n",
    "gfs['wspd'] = wd.calc_wind_veloc(gfs)\n",
    "gfs['wdir'] = wd.calc_wind_direc(gfs)\n",
    "gfs['wdir_windrose'] = wd.get_direc_quadrant(gfs)"
   ]
  },
  {
   "cell_type": "code",
   "execution_count": 5,
   "metadata": {},
   "outputs": [
    {
     "data": {
      "text/html": [
       "<div>\n",
       "<style scoped>\n",
       "    .dataframe tbody tr th:only-of-type {\n",
       "        vertical-align: middle;\n",
       "    }\n",
       "\n",
       "    .dataframe tbody tr th {\n",
       "        vertical-align: top;\n",
       "    }\n",
       "\n",
       "    .dataframe thead th {\n",
       "        text-align: right;\n",
       "    }\n",
       "</style>\n",
       "<table border=\"1\" class=\"dataframe\">\n",
       "  <thead>\n",
       "    <tr style=\"text-align: right;\">\n",
       "      <th></th>\n",
       "      <th>date_time</th>\n",
       "      <th>latitude</th>\n",
       "      <th>longitude</th>\n",
       "      <th>uw</th>\n",
       "      <th>vw</th>\n",
       "      <th>wspd</th>\n",
       "      <th>wdir</th>\n",
       "      <th>dir_quadrants</th>\n",
       "    </tr>\n",
       "  </thead>\n",
       "  <tbody>\n",
       "    <tr>\n",
       "      <th>0</th>\n",
       "      <td>2023-07-23T00:00:00Z</td>\n",
       "      <td>-35.0</td>\n",
       "      <td>305.0</td>\n",
       "      <td>4.482549</td>\n",
       "      <td>-7.959366</td>\n",
       "      <td>9.134810</td>\n",
       "      <td>299.387302</td>\n",
       "      <td>WNW</td>\n",
       "    </tr>\n",
       "    <tr>\n",
       "      <th>1</th>\n",
       "      <td>2023-07-23T00:00:00Z</td>\n",
       "      <td>-35.0</td>\n",
       "      <td>305.5</td>\n",
       "      <td>1.082549</td>\n",
       "      <td>-7.399366</td>\n",
       "      <td>7.478137</td>\n",
       "      <td>278.323488</td>\n",
       "      <td>W</td>\n",
       "    </tr>\n",
       "    <tr>\n",
       "      <th>2</th>\n",
       "      <td>2023-07-23T00:00:00Z</td>\n",
       "      <td>-35.0</td>\n",
       "      <td>306.0</td>\n",
       "      <td>2.182549</td>\n",
       "      <td>-7.819367</td>\n",
       "      <td>8.118252</td>\n",
       "      <td>285.595530</td>\n",
       "      <td>WNW</td>\n",
       "    </tr>\n",
       "    <tr>\n",
       "      <th>3</th>\n",
       "      <td>2023-07-23T00:00:00Z</td>\n",
       "      <td>-35.0</td>\n",
       "      <td>306.5</td>\n",
       "      <td>0.332549</td>\n",
       "      <td>-9.569366</td>\n",
       "      <td>9.575143</td>\n",
       "      <td>271.990307</td>\n",
       "      <td>W</td>\n",
       "    </tr>\n",
       "    <tr>\n",
       "      <th>4</th>\n",
       "      <td>2023-07-23T00:00:00Z</td>\n",
       "      <td>-35.0</td>\n",
       "      <td>307.0</td>\n",
       "      <td>0.352549</td>\n",
       "      <td>-10.729366</td>\n",
       "      <td>10.735157</td>\n",
       "      <td>271.881965</td>\n",
       "      <td>W</td>\n",
       "    </tr>\n",
       "    <tr>\n",
       "      <th>...</th>\n",
       "      <td>...</td>\n",
       "      <td>...</td>\n",
       "      <td>...</td>\n",
       "      <td>...</td>\n",
       "      <td>...</td>\n",
       "      <td>...</td>\n",
       "      <td>...</td>\n",
       "      <td>...</td>\n",
       "    </tr>\n",
       "    <tr>\n",
       "      <th>310702</th>\n",
       "      <td>2023-07-31T12:00:00Z</td>\n",
       "      <td>4.0</td>\n",
       "      <td>331.0</td>\n",
       "      <td>-3.068423</td>\n",
       "      <td>4.762478</td>\n",
       "      <td>5.665370</td>\n",
       "      <td>122.793328</td>\n",
       "      <td>ESE</td>\n",
       "    </tr>\n",
       "    <tr>\n",
       "      <th>310703</th>\n",
       "      <td>2023-07-31T12:00:00Z</td>\n",
       "      <td>4.0</td>\n",
       "      <td>331.5</td>\n",
       "      <td>-3.768423</td>\n",
       "      <td>5.642478</td>\n",
       "      <td>6.785173</td>\n",
       "      <td>123.737640</td>\n",
       "      <td>ESE</td>\n",
       "    </tr>\n",
       "    <tr>\n",
       "      <th>310704</th>\n",
       "      <td>2023-07-31T12:00:00Z</td>\n",
       "      <td>4.0</td>\n",
       "      <td>332.0</td>\n",
       "      <td>-2.658423</td>\n",
       "      <td>5.612478</td>\n",
       "      <td>6.210243</td>\n",
       "      <td>115.345179</td>\n",
       "      <td>ESE</td>\n",
       "    </tr>\n",
       "    <tr>\n",
       "      <th>310705</th>\n",
       "      <td>2023-07-31T12:00:00Z</td>\n",
       "      <td>4.0</td>\n",
       "      <td>332.5</td>\n",
       "      <td>-2.678423</td>\n",
       "      <td>5.712478</td>\n",
       "      <td>6.309227</td>\n",
       "      <td>115.120581</td>\n",
       "      <td>ESE</td>\n",
       "    </tr>\n",
       "    <tr>\n",
       "      <th>310706</th>\n",
       "      <td>2023-07-31T12:00:00Z</td>\n",
       "      <td>4.0</td>\n",
       "      <td>333.0</td>\n",
       "      <td>-2.838423</td>\n",
       "      <td>5.782478</td>\n",
       "      <td>6.441560</td>\n",
       "      <td>116.144859</td>\n",
       "      <td>ESE</td>\n",
       "    </tr>\n",
       "  </tbody>\n",
       "</table>\n",
       "<p>310707 rows × 8 columns</p>\n",
       "</div>"
      ],
      "text/plain": [
       "                   date_time  latitude  longitude        uw         vw  \\\n",
       "0       2023-07-23T00:00:00Z     -35.0      305.0  4.482549  -7.959366   \n",
       "1       2023-07-23T00:00:00Z     -35.0      305.5  1.082549  -7.399366   \n",
       "2       2023-07-23T00:00:00Z     -35.0      306.0  2.182549  -7.819367   \n",
       "3       2023-07-23T00:00:00Z     -35.0      306.5  0.332549  -9.569366   \n",
       "4       2023-07-23T00:00:00Z     -35.0      307.0  0.352549 -10.729366   \n",
       "...                      ...       ...        ...       ...        ...   \n",
       "310702  2023-07-31T12:00:00Z       4.0      331.0 -3.068423   4.762478   \n",
       "310703  2023-07-31T12:00:00Z       4.0      331.5 -3.768423   5.642478   \n",
       "310704  2023-07-31T12:00:00Z       4.0      332.0 -2.658423   5.612478   \n",
       "310705  2023-07-31T12:00:00Z       4.0      332.5 -2.678423   5.712478   \n",
       "310706  2023-07-31T12:00:00Z       4.0      333.0 -2.838423   5.782478   \n",
       "\n",
       "             wspd        wdir dir_quadrants  \n",
       "0        9.134810  299.387302           WNW  \n",
       "1        7.478137  278.323488             W  \n",
       "2        8.118252  285.595530           WNW  \n",
       "3        9.575143  271.990307             W  \n",
       "4       10.735157  271.881965             W  \n",
       "...           ...         ...           ...  \n",
       "310702   5.665370  122.793328           ESE  \n",
       "310703   6.785173  123.737640           ESE  \n",
       "310704   6.210243  115.345179           ESE  \n",
       "310705   6.309227  115.120581           ESE  \n",
       "310706   6.441560  116.144859           ESE  \n",
       "\n",
       "[310707 rows x 8 columns]"
      ]
     },
     "execution_count": 5,
     "metadata": {},
     "output_type": "execute_result"
    }
   ],
   "source": [
    "gfs"
   ]
  },
  {
   "cell_type": "code",
   "execution_count": 119,
   "metadata": {},
   "outputs": [
    {
     "data": {
      "text/plain": [
       "<AxesSubplot:>"
      ]
     },
     "execution_count": 119,
     "metadata": {},
     "output_type": "execute_result"
    },
    {
     "data": {
      "image/png": "[encoded data removed]",
      "text/plain": [
       "<Figure size 432x288 with 1 Axes>"
      ]
     },
     "metadata": {
      "needs_background": "light"
     },
     "output_type": "display_data"
    }
   ],
   "source": [
    "gfs.wdir.plot(marker='.')"
   ]
  }
 ],
 "metadata": {
  "kernelspec": {
   "display_name": "Python 3.8.12 64-bit ('remobs_global')",
   "language": "python",
   "name": "python3"
  },
  "language_info": {
   "codemirror_mode": {
    "name": "ipython",
    "version": 3
   },
   "file_extension": ".py",
   "mimetype": "text/x-python",
   "name": "python",
   "nbconvert_exporter": "python",
   "pygments_lexer": "ipython3",
   "version": "3.8.12"
  },
  "orig_nbformat": 4,
  "vscode": {
   "interpreter": {
    "hash": "78f42fc8b4ebb5f5020edaa166560c7966d678064aa55a7b27f1a67e86d099e7"
   }
  }
 },
 "nbformat": 4,
 "nbformat_minor": 2
}
